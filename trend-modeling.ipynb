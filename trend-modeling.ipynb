{
 "cells": [
  {
   "cell_type": "code",
   "execution_count": 1,
   "id": "bead4649-2535-4e0b-972a-9ff133110a9f",
   "metadata": {},
   "outputs": [],
   "source": [
    "import pandas as pd\n",
    "import numpy as np\n",
    "import seaborn as sns\n",
    "import matplotlib.pyplot as plt"
   ]
  },
  {
   "cell_type": "code",
   "execution_count": 2,
   "id": "54112aec-24d4-4235-8b31-03b00406d850",
   "metadata": {},
   "outputs": [],
   "source": [
    "from pathlib import Path"
   ]
  },
  {
   "cell_type": "markdown",
   "id": "91b24fce-12f5-4b27-8ead-07a314a7dd1c",
   "metadata": {},
   "source": [
    "# Loading of data"
   ]
  },
  {
   "cell_type": "code",
   "execution_count": 3,
   "id": "78de59ad-3c2c-4f54-96c0-c2fde5d9f3ef",
   "metadata": {},
   "outputs": [],
   "source": [
    "data_dir = Path(\"data\")"
   ]
  },
  {
   "cell_type": "code",
   "execution_count": 40,
   "id": "4ea47983-3d85-4593-9872-b14b74f3dd15",
   "metadata": {},
   "outputs": [],
   "source": [
    "dtype = {\n",
    "    \"store_nbr\": \"category\",\n",
    "    \"family\": \"category\",\n",
    "    \"sales\": \"float32\",\n",
    "    \"onpromotion\": \"uint32\",\n",
    "    \"id\": \"uint32\"\n",
    "}"
   ]
  },
  {
   "cell_type": "code",
   "execution_count": 32,
   "id": "60b864c3-9e32-4c55-bcda-8424edf951cd",
   "metadata": {},
   "outputs": [],
   "source": [
    "store_sales = pd.read_csv(\n",
    "    data_dir / \"train.csv\",\n",
    "    usecols=[\"store_nbr\", \"family\", \"date\", \"sales\", \"onpromotion\"],\n",
    "    dtype=dtype,\n",
    "    index_col=\"date\",\n",
    "    parse_dates=[\"date\"],\n",
    "    infer_datetime_format=True\n",
    ")"
   ]
  },
  {
   "cell_type": "code",
   "execution_count": 33,
   "id": "85800e08-8d1f-450d-b6cd-82b735978fd7",
   "metadata": {},
   "outputs": [],
   "source": [
    "store_sales = train.to_period(\"D\")  # Timestamp to period by day"
   ]
  },
  {
   "cell_type": "code",
   "execution_count": 34,
   "id": "f862cc19-198a-4cb5-be3b-c623b5c8a1d3",
   "metadata": {},
   "outputs": [],
   "source": [
    "store_sales = store_sales.set_index([\"store_nbr\", \"family\"], append=True)"
   ]
  },
  {
   "cell_type": "code",
   "execution_count": 37,
   "id": "ba49a88c-2d82-4418-b3a8-82bcec91c0d6",
   "metadata": {},
   "outputs": [],
   "source": [
    "average_sales = store_sales.groupby(\"date\").mean()[\"sales\"]"
   ]
  },
  {
   "cell_type": "markdown",
   "id": "4f483f73-ee12-4980-b38d-adbf1dcc08fd",
   "metadata": {},
   "source": [
    "# Moving average"
   ]
  },
  {
   "cell_type": "code",
   "execution_count": 11,
   "id": "71805d55-b7fb-4c08-88f0-3216f9550d3d",
   "metadata": {},
   "outputs": [],
   "source": [
    "window_size = 365"
   ]
  },
  {
   "cell_type": "code",
   "execution_count": 12,
   "id": "15fb2abf-0497-4d7f-836e-6c14701a6b86",
   "metadata": {},
   "outputs": [],
   "source": [
    "trend = average_sales.rolling(\n",
    "    window=window_size,  # Annual moving average\n",
    "    center=True,\n",
    "    min_periods=window_size // 2\n",
    ").mean()"
   ]
  }
 ],
 "metadata": {
  "kernelspec": {
   "display_name": "Python 3 (ipykernel)",
   "language": "python",
   "name": "python3"
  },
  "language_info": {
   "codemirror_mode": {
    "name": "ipython",
    "version": 3
   },
   "file_extension": ".py",
   "mimetype": "text/x-python",
   "name": "python",
   "nbconvert_exporter": "python",
   "pygments_lexer": "ipython3",
   "version": "3.10.6"
  }
 },
 "nbformat": 4,
 "nbformat_minor": 5
}
